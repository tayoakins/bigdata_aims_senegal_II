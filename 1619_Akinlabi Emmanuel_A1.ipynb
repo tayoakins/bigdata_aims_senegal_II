{
 "cells": [
  {
   "cell_type": "markdown",
   "metadata": {},
   "source": [
    "<h1>Assignment 1</h1>\n",
    "\n",
    "<p>In this first assignment we are focusing on a classification problem.<br>\n",
    "Our goal will be to use both the <b>K-Nearest Neighbors</b> and the <b>Decision Tree</b> techniques and try to compare the predictive models obtained.</p>\n",
    "\n",
    "<h3>The Dataset</h3>\n",
    "<p>For this assignment we will be using the sonar_train.csv data set</p>\n",
    "<p>This data set contains signals obtained from a variety of different aspect angles, spanning 90 degrees for mines and 180 degrees for rocks. Each sample is a set of 60 numbers in the range 0.0 to 1.0, where each number represents the energy within a particular frequency band (integrated over a certain period of time). The output target contains the letter R if the object is a rock and M if it is a mine (metal cylinder).</p>"
   ]
  },
  {
   "cell_type": "code",
   "execution_count": 1,
   "metadata": {
    "collapsed": false
   },
   "outputs": [],
   "source": [
    "import numpy as np\n",
    "import matplotlib.pyplot as plt\n",
    "import pandas as pd\n",
    "%matplotlib inline"
   ]
  },
  {
   "cell_type": "code",
   "execution_count": 2,
   "metadata": {
    "collapsed": false
   },
   "outputs": [
    {
     "name": "stdout",
     "output_type": "stream",
     "text": [
      "<class 'pandas.core.frame.DataFrame'>\n",
      "Int64Index: 208 entries, 0 to 207\n",
      "Data columns (total 61 columns):\n",
      "Band1     208 non-null float64\n",
      "Band2     208 non-null float64\n",
      "Band3     208 non-null float64\n",
      "Band4     208 non-null float64\n",
      "Band5     208 non-null float64\n",
      "Band6     208 non-null float64\n",
      "Band7     208 non-null float64\n",
      "Band8     208 non-null float64\n",
      "Band9     208 non-null float64\n",
      "Band10    208 non-null float64\n",
      "Band11    208 non-null float64\n",
      "Band12    208 non-null float64\n",
      "Band13    208 non-null float64\n",
      "Band14    208 non-null float64\n",
      "Band15    208 non-null float64\n",
      "Band16    208 non-null float64\n",
      "Band17    208 non-null float64\n",
      "Band18    208 non-null float64\n",
      "Band19    208 non-null float64\n",
      "Band20    208 non-null float64\n",
      "Band21    208 non-null float64\n",
      "Band22    208 non-null float64\n",
      "Band23    208 non-null float64\n",
      "Band24    208 non-null float64\n",
      "Band25    208 non-null float64\n",
      "Band26    208 non-null float64\n",
      "Band27    208 non-null float64\n",
      "Band28    208 non-null float64\n",
      "Band29    208 non-null float64\n",
      "Band30    208 non-null float64\n",
      "Band31    208 non-null float64\n",
      "Band32    208 non-null float64\n",
      "Band33    208 non-null float64\n",
      "Band34    208 non-null float64\n",
      "Band35    208 non-null float64\n",
      "Band36    208 non-null float64\n",
      "Band37    208 non-null float64\n",
      "Band38    208 non-null float64\n",
      "Band39    208 non-null float64\n",
      "Band40    208 non-null float64\n",
      "Band41    208 non-null float64\n",
      "Band42    208 non-null float64\n",
      "Band43    208 non-null float64\n",
      "Band44    208 non-null float64\n",
      "Band45    208 non-null float64\n",
      "Band46    208 non-null float64\n",
      "Band47    208 non-null float64\n",
      "Band48    208 non-null float64\n",
      "Band49    208 non-null float64\n",
      "Band50    208 non-null float64\n",
      "Band51    208 non-null float64\n",
      "Band52    208 non-null float64\n",
      "Band53    208 non-null float64\n",
      "Band54    208 non-null float64\n",
      "Band55    208 non-null float64\n",
      "Band56    208 non-null float64\n",
      "Band57    208 non-null float64\n",
      "Band58    208 non-null float64\n",
      "Band59    208 non-null float64\n",
      "Band60    208 non-null float64\n",
      "Type      208 non-null object\n",
      "dtypes: float64(60), object(1)"
     ]
    }
   ],
   "source": [
    "#Opening the sonar_train.csv file\n",
    "data = pd.read_csv('sonar.csv',',')\n",
    "#data = pd.read_csv('sonar.csv')\n",
    "###Display informations and the different column/features names\n",
    "data.info()\n"
   ]
  },
  {
   "cell_type": "markdown",
   "metadata": {},
   "source": [
    "<p>In this data set each band is a feature and the target is the type of the object</p>\n",
    "<h4> <u>QUESTION 1 :</u> How many samples and how many features do we have?</h4>\n",
    "<p><i> We have 208 samples and 61 features</i></p>"
   ]
  },
  {
   "cell_type": "code",
   "execution_count": 3,
   "metadata": {
    "collapsed": false
   },
   "outputs": [],
   "source": [
    "###using the train_test_split command split the data set in two : 'train' and 'test' with a ratio ~75%-25%\n",
    "from sklearn.cross_validation import train_test_split\n",
    "x=data.drop(['Type'],axis=1)\n",
    "y=data['Type']\n",
    "x_train, x_test, y_train, y_test = train_test_split(x, y, test_size=0.25, random_state=0)\n"
   ]
  },
  {
   "cell_type": "code",
   "execution_count": 4,
   "metadata": {
    "collapsed": false
   },
   "outputs": [
    {
     "name": "stdout",
     "output_type": "stream",
     "text": [
      "The number of R is 97\n",
      "The number of M is 111\n"
     ]
    }
   ],
   "source": [
    "#The last column in our sets correspond to the target\n",
    "###Count how many of 'R' and 'M' you have in total\n",
    "print 'The number of R is',sum(y=='R')\n",
    "print 'The number of M is',sum(y=='M')"
   ]
  },
  {
   "cell_type": "code",
   "execution_count": 5,
   "metadata": {
    "collapsed": false
   },
   "outputs": [],
   "source": [
    "#In order to make targets more easily usable we will replace 'R' and 'M' by 0 and 1 respectively.\n",
    "###Do it for both sets using the command : .replace()\n",
    "\n",
    "yy_train=y_train.replace('R',0).replace('M',1)\n",
    "yy_test=y_test.replace('R',0).replace('M',1)\n"
   ]
  },
  {
   "cell_type": "markdown",
   "metadata": {},
   "source": [
    "<h3>K-Nearest Neighbors approach</h3>\n",
    "\n",
    "<p>In this section we will apply the <b>K-Nearest Neighbors</b> technique to the data set</p>"
   ]
  },
  {
   "cell_type": "code",
   "execution_count": 7,
   "metadata": {
    "collapsed": false
   },
   "outputs": [
    {
     "data": {
      "text/plain": [
       "KNeighborsClassifier(algorithm='auto', leaf_size=30, metric='minkowski',\n",
       "           metric_params=None, n_jobs=1, n_neighbors=7, p=2,\n",
       "           weights='uniform')"
      ]
     },
     "execution_count": 7,
     "metadata": {},
     "output_type": "execute_result"
    }
   ],
   "source": [
    "from sklearn.neighbors import KNeighborsClassifier\n",
    "###Fille the brackets to use the brute force approach and 7 neighbors\n",
    "knn = KNeighborsClassifier(algorithm='auto',n_neighbors=7)\n",
    "\n",
    "### Train the Nearest Neighbor Classifier \"knn\" on the training set\n",
    "knn.fit(x_train,yy_train)"
   ]
  },
  {
   "cell_type": "markdown",
   "metadata": {},
   "source": [
    "<h4> <u>QUESTION 2 :</u> Which kind of impact has the choice of the algorithm?</h4>\n",
    "<p><i>The computer time used to carry out the classification depends on the choice of algorithm </i></p>"
   ]
  },
  {
   "cell_type": "code",
   "execution_count": 8,
   "metadata": {
    "collapsed": false
   },
   "outputs": [
    {
     "data": {
      "text/plain": [
       "{'algorithm': 'auto',\n",
       " 'leaf_size': 30,\n",
       " 'metric': 'minkowski',\n",
       " 'metric_params': None,\n",
       " 'n_jobs': 1,\n",
       " 'n_neighbors': 7,\n",
       " 'p': 2,\n",
       " 'weights': 'uniform'}"
      ]
     },
     "execution_count": 8,
     "metadata": {},
     "output_type": "execute_result"
    }
   ],
   "source": [
    "#At any time it is possible to recall the parameters using :\n",
    "knn.get_params()"
   ]
  },
  {
   "cell_type": "markdown",
   "metadata": {},
   "source": [
    "<p>We now want to test the accuracy of the nearest neighbor classifier</p>\n"
   ]
  },
  {
   "cell_type": "code",
   "execution_count": 9,
   "metadata": {
    "collapsed": false
   },
   "outputs": [
    {
     "data": {
      "text/plain": [
       "12     False\n",
       "80     False\n",
       "33     False\n",
       "5      False\n",
       "187     True\n",
       "83     False\n",
       "116     True\n",
       "122     True\n",
       "90      True\n",
       "154     True\n",
       "45     False\n",
       "156     True\n",
       "52     False\n",
       "189     True\n",
       "96      True\n",
       "86      True\n",
       "204     True\n",
       "37      True\n",
       "66      True\n",
       "18      True\n",
       "170    False\n",
       "15      True\n",
       "7      False\n",
       "55     False\n",
       "92     False\n",
       "134     True\n",
       "125     True\n",
       "124     True\n",
       "158     True\n",
       "184     True\n",
       "75      True\n",
       "149    False\n",
       "138    False\n",
       "71      True\n",
       "186     True\n",
       "145    False\n",
       "176     True\n",
       "118     True\n",
       "16      True\n",
       "135     True\n",
       "190     True\n",
       "22      True\n",
       "104     True\n",
       "141     True\n",
       "4      False\n",
       "74     False\n",
       "136     True\n",
       "44     False\n",
       "63      True\n",
       "108     True\n",
       "26     False\n",
       "101     True\n",
       "Name: Type, Length: 52, dtype: bool"
      ]
     },
     "execution_count": 9,
     "metadata": {},
     "output_type": "execute_result"
    }
   ],
   "source": [
    "###Compute the target prediction for the elements of the test set and compare with their true value\n",
    "\n",
    "result_test=knn.predict(x_test)\n",
    "result_test==yy_test"
   ]
  },
  {
   "cell_type": "code",
   "execution_count": 10,
   "metadata": {
    "collapsed": false
   },
   "outputs": [
    {
     "data": {
      "text/plain": [
       "0.65384615384615385"
      ]
     },
     "execution_count": 10,
     "metadata": {},
     "output_type": "execute_result"
    }
   ],
   "source": [
    "#scikit actually includes an accuracy evaluation function :\n",
    "###Compute the accuracy using knn.score()\n",
    "\n",
    "len(yy_test)==len(result_test)\n",
    "knn.score(x_test,yy_test)"
   ]
  },
  {
   "cell_type": "markdown",
   "metadata": {},
   "source": [
    "<h4> <u>QUESTION 3 :</u> Is the accuracy acceptable?</h4>\n",
    "<p><i>No</i></p>\n",
    "\n",
    "<p>In the following cell repeat the training and the test steps with different knn parameters and try to find a good combination.</p>"
   ]
  },
  {
   "cell_type": "code",
   "execution_count": 11,
   "metadata": {
    "collapsed": false
   },
   "outputs": [
    {
     "data": {
      "text/plain": [
       "0.82692307692307687"
      ]
     },
     "execution_count": 11,
     "metadata": {},
     "output_type": "execute_result"
    }
   ],
   "source": [
    "knn = KNeighborsClassifier(algorithm='auto',n_neighbors=4)\n",
    "### Train the Nearest Neighbor Classifier \"knn\" on the training set\n",
    "knn.fit(x_train,yy_train)\n",
    "knn.score(x_test,yy_test)\n",
    "\n",
    "\n"
   ]
  },
  {
   "cell_type": "markdown",
   "metadata": {},
   "source": [
    "<h4> <u>QUESTION 4 :</u> What is the best accuracy you get? What can you conclude?</h4>\n",
    "<p><i>My best accuracy is 0.83. Since the data is short, we can conclude based on this result</i></p>"
   ]
  },
  {
   "cell_type": "markdown",
   "metadata": {},
   "source": [
    "<h3>Decision Tree</h3>\n",
    "\n",
    "<p>Using the same sets we now investigate the efficiency of a <b>decision tree classifier<b> </p>"
   ]
  },
  {
   "cell_type": "code",
   "execution_count": 18,
   "metadata": {
    "collapsed": false
   },
   "outputs": [
    {
     "data": {
      "text/plain": [
       "DecisionTreeClassifier(class_weight=None, criterion='gini', max_depth=None,\n",
       "            max_features=None, max_leaf_nodes=None, min_samples_leaf=1,\n",
       "            min_samples_split=2, min_weight_fraction_leaf=0.0,\n",
       "            presort=False, random_state=None, splitter='best')"
      ]
     },
     "execution_count": 18,
     "metadata": {},
     "output_type": "execute_result"
    }
   ],
   "source": [
    "from sklearn import tree\n",
    "###\n",
    "dtr1 = tree.DecisionTreeClassifier()\n",
    "\n",
    "###train the decision tree classifier \"dtr\"\n",
    "dtr1.fit(x_train,yy_train)"
   ]
  },
  {
   "cell_type": "code",
   "execution_count": 19,
   "metadata": {
    "collapsed": false
   },
   "outputs": [
    {
     "data": {
      "text/plain": [
       "{'class_weight': None,\n",
       " 'criterion': 'gini',\n",
       " 'max_depth': None,\n",
       " 'max_features': None,\n",
       " 'max_leaf_nodes': None,\n",
       " 'min_samples_leaf': 1,\n",
       " 'min_samples_split': 2,\n",
       " 'min_weight_fraction_leaf': 0.0,\n",
       " 'presort': False,\n",
       " 'random_state': None,\n",
       " 'splitter': 'best'}"
      ]
     },
     "execution_count": 19,
     "metadata": {},
     "output_type": "execute_result"
    }
   ],
   "source": [
    "#Same as previously we can display some informations\n",
    "dtr1.get_params()"
   ]
  },
  {
   "cell_type": "markdown",
   "metadata": {},
   "source": [
    "<h4> <u>QUESTION 5 :</u> From the list above, give the keywords influencing the test performed at a decison node?</h4>\n",
    "<p><i>Criterion,min_samples_leaf,min_samples_split and splitter</i></p>\n",
    "\n",
    "<p>In the follwing, using the work done previously test the accuracy of the decision tree classifier.</p>"
   ]
  },
  {
   "cell_type": "code",
   "execution_count": 20,
   "metadata": {
    "collapsed": false
   },
   "outputs": [
    {
     "data": {
      "text/plain": [
       "0.82692307692307687"
      ]
     },
     "execution_count": 20,
     "metadata": {},
     "output_type": "execute_result"
    }
   ],
   "source": [
    "dtr1.score(x_test,yy_test)\n",
    "\n",
    "\n",
    "\n",
    "\n"
   ]
  },
  {
   "cell_type": "markdown",
   "metadata": {},
   "source": [
    "<p>Hereafter, using different parameters for our decision tree, try to improve the accuracy</p>\n",
    "\n",
    "<h4> <u>QUESTION 6 :</u> Explain which parameter(s) you plan to change and why?</h4>\n",
    "<p><i>I plan to change the max_depth </i></p>\n"
   ]
  },
  {
   "cell_type": "code",
   "execution_count": 22,
   "metadata": {
    "collapsed": false
   },
   "outputs": [
    {
     "data": {
      "text/plain": [
       "0.78846153846153844"
      ]
     },
     "execution_count": 22,
     "metadata": {},
     "output_type": "execute_result"
    }
   ],
   "source": [
    "dtr = tree.DecisionTreeClassifier(max_depth=56)\n",
    "dtr.fit(x_train,yy_train)\n",
    "dtr.score(x_test,yy_test)\n",
    "\n",
    "\n",
    "\n",
    "\n"
   ]
  },
  {
   "cell_type": "markdown",
   "metadata": {},
   "source": [
    "<p>The results are different but obviously when we identify mines we don't want to be wrong.</p>\n",
    "\n",
    "<h4> <u>QUESTION 7 :</u> Which one of the two methods is better? Is the accuracy acceptable? Why?</h4>\n",
    "<p><i>The Decision Tree is the best method. The accuracy is acceptable since the accuracy is high compared with the number of dataset that we have</i></p>\n",
    "\n",
    "<h4> <u>QUESTION 8 :</u> What can you conclude from the whole study</h4>\n",
    "<p><i>I could conclude that the decision tree method works better with this data. Also, changing some parameter in both method increases the accuracy.</i></p>\n",
    "\n",
    "\n",
    "<h4> <u>BONUS :</u> Copy/Paste the code to generate a pdf file containing the best tree and attach the file generated to your assignment when sending everything to me</h4>"
   ]
  },
  {
   "cell_type": "code",
   "execution_count": 25,
   "metadata": {
    "collapsed": false
   },
   "outputs": [
    {
     "data": {
      "text/plain": [
       "True"
      ]
     },
     "execution_count": 25,
     "metadata": {},
     "output_type": "execute_result"
    }
   ],
   "source": [
    "import pydot\n",
    "from sklearn.externals.six import StringIO\n",
    "from sklearn import tree\n",
    "\n",
    "dot_data = StringIO()\n",
    "f = tree.export_graphviz(dtr,out_file=dot_data,\n",
    "                         feature_names=x.columns,\n",
    "                         class_names='Type',\n",
    "                         filled=True,rounded=True)\n",
    "graph = pydot.graph_from_dot_data(dot_data.getvalue())\n",
    "graph.write_pdf('1619_Akinlabi Emmanuel_A1.pdf')\n",
    "\n"
   ]
  },
  {
   "cell_type": "code",
   "execution_count": null,
   "metadata": {
    "collapsed": false
   },
   "outputs": [],
   "source": []
  }
 ],
 "metadata": {
  "kernelspec": {
   "display_name": "Python 2",
   "language": "python",
   "name": "python2"
  },
  "language_info": {
   "codemirror_mode": {
    "name": "ipython",
    "version": 2
   },
   "file_extension": ".py",
   "mimetype": "text/x-python",
   "name": "python",
   "nbconvert_exporter": "python",
   "pygments_lexer": "ipython2",
   "version": "2.7.6"
  }
 },
 "nbformat": 4,
 "nbformat_minor": 0
}
